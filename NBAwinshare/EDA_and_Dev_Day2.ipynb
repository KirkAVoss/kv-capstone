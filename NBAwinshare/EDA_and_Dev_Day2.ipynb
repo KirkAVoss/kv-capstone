{
 "cells": [
  {
   "cell_type": "code",
   "execution_count": 12,
   "metadata": {},
   "outputs": [],
   "source": [
    "from source import data_wrangle\n",
    "import matplotlib.pyplot as plt\n",
    "%matplotlib inline"
   ]
  },
  {
   "cell_type": "code",
   "execution_count": 3,
   "metadata": {},
   "outputs": [],
   "source": [
    "advanced = data_wrangle.read_all_advanced('./data/advanced')\n",
    "pergame  = data_wrangle.read_all_pergame('./data/per_game')\n",
    "seasonal = data_wrangle.clean_and_join_seasonal_dataframe(advanced, pergame)\n",
    "demographic = data_wrangle.read_demographic_data('./data/player_data.csv')"
   ]
  },
  {
   "cell_type": "code",
   "execution_count": 6,
   "metadata": {},
   "outputs": [
    {
     "data": {
      "text/html": [
       "<div>\n",
       "<style scoped>\n",
       "    .dataframe tbody tr th:only-of-type {\n",
       "        vertical-align: middle;\n",
       "    }\n",
       "\n",
       "    .dataframe tbody tr th {\n",
       "        vertical-align: top;\n",
       "    }\n",
       "\n",
       "    .dataframe thead th {\n",
       "        text-align: right;\n",
       "    }\n",
       "</style>\n",
       "<table border=\"1\" class=\"dataframe\">\n",
       "  <thead>\n",
       "    <tr style=\"text-align: right;\">\n",
       "      <th></th>\n",
       "      <th>Player</th>\n",
       "      <th>Pos</th>\n",
       "      <th>Age</th>\n",
       "      <th>Tm</th>\n",
       "      <th>G</th>\n",
       "      <th>MP_total</th>\n",
       "      <th>PER</th>\n",
       "      <th>TS%</th>\n",
       "      <th>3PAr</th>\n",
       "      <th>FTr</th>\n",
       "      <th>...</th>\n",
       "      <th>FT%</th>\n",
       "      <th>ORB</th>\n",
       "      <th>DRB</th>\n",
       "      <th>TRB</th>\n",
       "      <th>AST</th>\n",
       "      <th>STL</th>\n",
       "      <th>BLK</th>\n",
       "      <th>TOV</th>\n",
       "      <th>PF</th>\n",
       "      <th>PS/G</th>\n",
       "    </tr>\n",
       "  </thead>\n",
       "  <tbody>\n",
       "    <tr>\n",
       "      <th>0</th>\n",
       "      <td>A.C. Green</td>\n",
       "      <td>PF</td>\n",
       "      <td>33</td>\n",
       "      <td>TOT</td>\n",
       "      <td>83</td>\n",
       "      <td>2492</td>\n",
       "      <td>12.4</td>\n",
       "      <td>0.523</td>\n",
       "      <td>0.041</td>\n",
       "      <td>0.407</td>\n",
       "      <td>...</td>\n",
       "      <td>0.650</td>\n",
       "      <td>2.7</td>\n",
       "      <td>5.2</td>\n",
       "      <td>7.9</td>\n",
       "      <td>0.8</td>\n",
       "      <td>0.8</td>\n",
       "      <td>0.2</td>\n",
       "      <td>0.9</td>\n",
       "      <td>1.7</td>\n",
       "      <td>7.2</td>\n",
       "    </tr>\n",
       "    <tr>\n",
       "      <th>441</th>\n",
       "      <td>A.C. Green</td>\n",
       "      <td>PF</td>\n",
       "      <td>34</td>\n",
       "      <td>DAL</td>\n",
       "      <td>82</td>\n",
       "      <td>2649</td>\n",
       "      <td>12.8</td>\n",
       "      <td>0.496</td>\n",
       "      <td>0.007</td>\n",
       "      <td>0.303</td>\n",
       "      <td>...</td>\n",
       "      <td>0.716</td>\n",
       "      <td>2.7</td>\n",
       "      <td>5.5</td>\n",
       "      <td>8.1</td>\n",
       "      <td>1.5</td>\n",
       "      <td>1.0</td>\n",
       "      <td>0.3</td>\n",
       "      <td>0.8</td>\n",
       "      <td>1.9</td>\n",
       "      <td>7.3</td>\n",
       "    </tr>\n",
       "    <tr>\n",
       "      <th>880</th>\n",
       "      <td>A.C. Green</td>\n",
       "      <td>PF</td>\n",
       "      <td>35</td>\n",
       "      <td>DAL</td>\n",
       "      <td>50</td>\n",
       "      <td>924</td>\n",
       "      <td>12.5</td>\n",
       "      <td>0.441</td>\n",
       "      <td>0.031</td>\n",
       "      <td>0.203</td>\n",
       "      <td>...</td>\n",
       "      <td>0.577</td>\n",
       "      <td>1.6</td>\n",
       "      <td>2.9</td>\n",
       "      <td>4.6</td>\n",
       "      <td>0.5</td>\n",
       "      <td>0.6</td>\n",
       "      <td>0.2</td>\n",
       "      <td>0.4</td>\n",
       "      <td>1.4</td>\n",
       "      <td>4.9</td>\n",
       "    </tr>\n",
       "  </tbody>\n",
       "</table>\n",
       "<p>3 rows × 52 columns</p>\n",
       "</div>"
      ],
      "text/plain": [
       "         Player Pos  Age   Tm   G  MP_total   PER    TS%   3PAr    FTr  ...   \\\n",
       "0    A.C. Green  PF   33  TOT  83      2492  12.4  0.523  0.041  0.407  ...    \n",
       "441  A.C. Green  PF   34  DAL  82      2649  12.8  0.496  0.007  0.303  ...    \n",
       "880  A.C. Green  PF   35  DAL  50       924  12.5  0.441  0.031  0.203  ...    \n",
       "\n",
       "       FT%  ORB  DRB  TRB  AST  STL  BLK  TOV   PF  PS/G  \n",
       "0    0.650  2.7  5.2  7.9  0.8  0.8  0.2  0.9  1.7   7.2  \n",
       "441  0.716  2.7  5.5  8.1  1.5  1.0  0.3  0.8  1.9   7.3  \n",
       "880  0.577  1.6  2.9  4.6  0.5  0.6  0.2  0.4  1.4   4.9  \n",
       "\n",
       "[3 rows x 52 columns]"
      ]
     },
     "execution_count": 6,
     "metadata": {},
     "output_type": "execute_result"
    }
   ],
   "source": [
    "seasonal.head(3)"
   ]
  },
  {
   "cell_type": "code",
   "execution_count": 34,
   "metadata": {},
   "outputs": [
    {
     "data": {
      "image/png": "[encoded data removed]",
      "text/plain": [
       "<Figure size 864x648 with 1 Axes>"
      ]
     },
     "metadata": {
      "needs_background": "light"
     },
     "output_type": "display_data"
    }
   ],
   "source": [
    "data = seasonal.groupby('Player').count()['Pos']\n",
    "bins = np.arange(22) - 0.5\n",
    "plt.figure(figsize=(12,9))\n",
    "plt.hist(data, bins)\n",
    "plt.xticks(range(21))\n",
    "plt.xlim([-1,21])\n",
    "plt.xlabel('Number of Seasons Played in Dataset')\n",
    "plt.ylabel('Player Count')\n",
    "plt.title('All Players in Data (not adjusted for Rookie Start Year)')\n",
    "\n",
    "\n",
    "plt.show()"
   ]
  },
  {
   "cell_type": "markdown",
   "metadata": {},
   "source": [
    "For how many players do we have more than 4 years of data?"
   ]
  },
  {
   "cell_type": "code",
   "execution_count": 32,
   "metadata": {},
   "outputs": [
    {
     "data": {
      "text/plain": [
       "848"
      ]
     },
     "execution_count": 32,
     "metadata": {},
     "output_type": "execute_result"
    }
   ],
   "source": [
    "atleastfouryears = data[data > 4]\n",
    "atleastfouryears.shape[0]"
   ]
  },
  {
   "cell_type": "code",
   "execution_count": 35,
   "metadata": {},
   "outputs": [
    {
     "data": {
      "text/plain": [
       "Text(0.5, 1.0, 'Greater than 4yr Player Counts (not adjusted for Rookie Start Year)')"
      ]
     },
     "execution_count": 35,
     "metadata": {},
     "output_type": "execute_result"
    },
    {
     "data": {
      "image/png": "[encoded data removed]",
      "text/plain": [
       "<Figure size 864x648 with 1 Axes>"
      ]
     },
     "metadata": {
      "needs_background": "light"
     },
     "output_type": "display_data"
    }
   ],
   "source": [
    "bins = np.arange(22) - 0.5\n",
    "plt.figure(figsize=(12,9))\n",
    "plt.hist(atleastfouryears, bins)\n",
    "plt.xticks(range(21))\n",
    "plt.xlim([3,21])\n",
    "plt.xlabel('Number of Seasons Played in Dataset')\n",
    "plt.ylabel('Player Count')\n",
    "plt.title('Greater than 4yr Player Counts (not adjusted for Rookie Start Year)')"
   ]
  },
  {
   "cell_type": "markdown",
   "metadata": {},
   "source": [
    "Plot Average minutes year 4 x-axis, years in league (5-9 in y)"
   ]
  },
  {
   "cell_type": "code",
   "execution_count": null,
   "metadata": {},
   "outputs": [],
   "source": []
  },
  {
   "cell_type": "code",
   "execution_count": null,
   "metadata": {},
   "outputs": [],
   "source": [
    "def add_years_in_league(df_seasonal, df_demo):\n",
    "    '''\n",
    "    Adds the number of years the player has been in the league to the seasonal dataframe.\n",
    "    Calculates the delta from \n",
    "    \n",
    "    '''"
   ]
  }
 ],
 "metadata": {
  "kernelspec": {
   "display_name": "Python 3",
   "language": "python",
   "name": "python3"
  },
  "language_info": {
   "codemirror_mode": {
    "name": "ipython",
    "version": 3
   },
   "file_extension": ".py",
   "mimetype": "text/x-python",
   "name": "python",
   "nbconvert_exporter": "python",
   "pygments_lexer": "ipython3",
   "version": "3.6.6"
  },
  "varInspector": {
   "cols": {
    "lenName": 16,
    "lenType": 16,
    "lenVar": 40
   },
   "kernels_config": {
    "python": {
     "delete_cmd_postfix": "",
     "delete_cmd_prefix": "del ",
     "library": "var_list.py",
     "varRefreshCmd": "print(var_dic_list())"
    },
    "r": {
     "delete_cmd_postfix": ") ",
     "delete_cmd_prefix": "rm(",
     "library": "var_list.r",
     "varRefreshCmd": "cat(var_dic_list()) "
    }
   },
   "types_to_exclude": [
    "module",
    "function",
    "builtin_function_or_method",
    "instance",
    "_Feature"
   ],
   "window_display": false
  }
 },
 "nbformat": 4,
 "nbformat_minor": 2
}
